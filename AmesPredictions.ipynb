{
 "cells": [
  {
   "cell_type": "code",
   "execution_count": 1,
   "id": "811b583fe6929935",
   "metadata": {
    "collapsed": false,
    "ExecuteTime": {
     "end_time": "2024-10-22T10:25:57.764597Z",
     "start_time": "2024-10-22T10:25:55.805116Z"
    }
   },
   "outputs": [],
   "source": [
    "import warnings\n",
    "warnings.simplefilter(action='ignore', category=FutureWarning)\n",
    "import numpy as np\n",
    "import pandas as pd\n",
    "%matplotlib inline\n",
    "%load_ext autoreload\n",
    "%autoreload 2"
   ]
  },
  {
   "cell_type": "markdown",
   "id": "93670e4aaa972a62",
   "metadata": {
    "collapsed": false
   },
   "source": [
    "# Preprocessing"
   ]
  },
  {
   "cell_type": "markdown",
   "id": "79e8103a2f7f84cb",
   "metadata": {
    "collapsed": false
   },
   "source": [
    "## Loading data"
   ]
  },
  {
   "cell_type": "code",
   "execution_count": 3,
   "id": "98450d990ea6fb1",
   "metadata": {
    "collapsed": false,
    "ExecuteTime": {
     "end_time": "2024-10-22T10:26:22.949345Z",
     "start_time": "2024-10-22T10:26:22.859276Z"
    }
   },
   "outputs": [],
   "source": [
    "X = pd.read_csv('train.csv', index_col=0, na_values='NA', keep_default_na=False)\n",
    "X_train = X.drop([\"SalePrice\"], axis=1)\n",
    "y_train = X[\"SalePrice\"]\n",
    "X_test = pd.read_csv('test.csv', index_col=0, na_values='NA', keep_default_na=False)"
   ]
  },
  {
   "cell_type": "markdown",
   "id": "369d73d0a77a05c6",
   "metadata": {
    "collapsed": false
   },
   "source": [
    "## Transformations"
   ]
  },
  {
   "cell_type": "markdown",
   "source": [
    "### Splitting Data"
   ],
   "metadata": {
    "collapsed": false
   },
   "id": "6c41f90cb18285c6"
  },
  {
   "cell_type": "code",
   "outputs": [],
   "source": [
    "categorical_features = X_train.select_dtypes(object)\n",
    "categorical_index = categorical_features.columns\n",
    "numerical_features = X_train.select_dtypes(np.number)\n",
    "numerical_index = numerical_features.columns"
   ],
   "metadata": {
    "collapsed": false,
    "ExecuteTime": {
     "end_time": "2024-10-22T10:26:25.682550Z",
     "start_time": "2024-10-22T10:26:25.631960Z"
    }
   },
   "id": "9d379b245bcc02b9",
   "execution_count": 4
  },
  {
   "cell_type": "markdown",
   "id": "3926576bf99c11f4",
   "metadata": {
    "collapsed": false
   },
   "source": [
    "### Numerical Imputing"
   ]
  },
  {
   "cell_type": "code",
   "execution_count": 5,
   "id": "b7ed259893556b66",
   "metadata": {
    "collapsed": false,
    "ExecuteTime": {
     "end_time": "2024-10-22T10:26:36.009142Z",
     "start_time": "2024-10-22T10:26:31.600869Z"
    }
   },
   "outputs": [],
   "source": [
    "from sklearn.impute import SimpleImputer\n",
    "imputer = SimpleImputer(strategy='median')\n",
    "\n",
    "# Train\n",
    "X_train_num = X_train.drop(categorical_index, axis=1)\n",
    "imputer.fit(X_train_num)\n",
    "X_train_num = pd.DataFrame(imputer.transform(X_train_num).astype(np.float32), columns=numerical_index)\n",
    "\n",
    "# Test\n",
    "X_test_num = X_test.drop(categorical_index, axis=1)\n",
    "X_test_num = pd.DataFrame(imputer.transform(X_test_num).astype(np.float32), columns=numerical_index)"
   ]
  },
  {
   "cell_type": "markdown",
   "id": "d343eb5b1e402134",
   "metadata": {
    "collapsed": false
   },
   "source": [
    "### Categorical Encoding"
   ]
  },
  {
   "cell_type": "code",
   "execution_count": 6,
   "id": "ed7e26fd984e9830",
   "metadata": {
    "collapsed": false,
    "ExecuteTime": {
     "end_time": "2024-10-22T10:26:44.187156Z",
     "start_time": "2024-10-22T10:26:44.080811Z"
    }
   },
   "outputs": [],
   "source": [
    "from sklearn.preprocessing import OneHotEncoder\n",
    "\n",
    "ohe = OneHotEncoder(handle_unknown='ignore', sparse_output=False)\n",
    "X_train_cat = X_train.drop(numerical_index, axis=1)\n",
    "X_test_cat = X_test.drop(numerical_index, axis=1)\n",
    "\n",
    "# Train\n",
    "ohe.fit(X_train_cat)\n",
    "X_train_ohe = ohe.transform(X_train_cat).astype(bool)\n",
    "X_train_ohe = pd.DataFrame(X_train_ohe, columns=ohe.get_feature_names_out(X_train_cat.columns.tolist()))\n",
    "\n",
    "# Test\n",
    "X_test_ohe = ohe.transform(X_test_cat).astype(bool)\n",
    "X_test_ohe = pd.DataFrame(X_test_ohe, columns=ohe.get_feature_names_out(X_test_cat.columns.tolist()))"
   ]
  },
  {
   "cell_type": "markdown",
   "id": "38ad38dc8194f265",
   "metadata": {
    "collapsed": false
   },
   "source": [
    "## Feature Engineering"
   ]
  },
  {
   "cell_type": "code",
   "execution_count": 7,
   "id": "ee551fd9f29aabf6",
   "metadata": {
    "collapsed": false,
    "ExecuteTime": {
     "end_time": "2024-10-22T10:26:47.062391Z",
     "start_time": "2024-10-22T10:26:46.988811Z"
    }
   },
   "outputs": [],
   "source": [
    "# Creating new feature\n",
    "X_train_num[\"Avg_RoomSF\"] = (X_train_num[\"1stFlrSF\"] + X_train_num[\"2ndFlrSF\"]) / X_train_num[\"TotRmsAbvGrd\"]\n",
    "X_test_num[\"Avg_RoomSF\"] = (X_test_num[\"1stFlrSF\"] + X_test_num[\"2ndFlrSF\"]) / X_test_num[\"TotRmsAbvGrd\"]"
   ]
  },
  {
   "cell_type": "code",
   "execution_count": 8,
   "id": "cc340f0f99f323b5",
   "metadata": {
    "collapsed": false,
    "ExecuteTime": {
     "end_time": "2024-10-22T10:26:48.896119Z",
     "start_time": "2024-10-22T10:26:48.829449Z"
    }
   },
   "outputs": [],
   "source": [
    "# Merging numerical and categorical features\n",
    "X_train_cleaned = pd.concat([X_train_num, X_train_ohe], axis=1)\n",
    "X_test_cleaned = pd.concat([X_test_num, X_test_ohe], axis=1)"
   ]
  },
  {
   "cell_type": "markdown",
   "id": "c43d3dc3cda739f1",
   "metadata": {
    "collapsed": false
   },
   "source": [
    "## Refactor"
   ]
  },
  {
   "cell_type": "code",
   "execution_count": 9,
   "id": "2822d09baa87a2a0",
   "metadata": {
    "collapsed": false,
    "ExecuteTime": {
     "end_time": "2024-10-22T10:26:58.420149Z",
     "start_time": "2024-10-22T10:26:58.349635Z"
    }
   },
   "outputs": [],
   "source": [
    "def preprocess(X_train, X_test=None):\n",
    "    \"\"\"\n",
    "    Preprocesses a set of train and test feature matrices by applying the following transformations:\n",
    "    - Imputes missing numerical values with the median value of the feature\n",
    "    - Encodes categorical features through one hot encoding\n",
    "    - Creates a new feature, Avg_RoomSF (average room area in square feet)\n",
    "    \n",
    "    Arguments:\n",
    "        X_train (DataFrame): Input feature matrix of training data.\n",
    "        X_test (DataFrame): Input feature matrix of test data. This argument is optional.\n",
    "    \n",
    "    Returns:\n",
    "        X_train_cleaned (DataFrame): Transformed feature matrix of training data.\n",
    "        X_test_cleaned (DataFrame): Transformed feature matrix of test data.\n",
    "    \n",
    "    Notes:\n",
    "        Target feature (\"SalePrice\") is not expected in X_train or X_test.\n",
    "        The features \"1stFlrSF\", \"2ndFlrSF\", and \"TotRmsAbvGrd\" are expected in X_train and X_test.\n",
    "    \"\"\"\n",
    "    \n",
    "    # Initialising\n",
    "    categorical_features = X_train.select_dtypes(include=object)\n",
    "    categorical_index = categorical_features.columns\n",
    "    numerical_features = X_train.select_dtypes(exclude=object)\n",
    "    numerical_index = numerical_features.columns\n",
    "    \n",
    "    imputer = SimpleImputer(strategy='median')\n",
    "    \n",
    "    # Numerical imputing\n",
    "    X_train_num = X_train.drop(categorical_index, axis=1)\n",
    "    imputer.fit(X_train_num)\n",
    "    X_train_num = pd.DataFrame(imputer.transform(X_train_num).astype(np.float32), columns=numerical_index)\n",
    "    \n",
    "    # Categorical encoding\n",
    "    ohe = OneHotEncoder(handle_unknown='ignore', sparse_output=False)\n",
    "    X_train_cat = X_train.drop(numerical_index, axis=1)\n",
    "    ohe.fit(X_train_cat)\n",
    "    X_train_ohe = ohe.transform(X_train_cat).astype(bool)\n",
    "    X_train_ohe = pd.DataFrame(X_train_ohe, columns=ohe.get_feature_names_out(X_train_cat.columns.tolist()))\n",
    "\n",
    "    # Creating new feature\n",
    "    X_train_num[\"Avg_RoomSF\"] = (X_train_num[\"1stFlrSF\"] + X_train_num[\"2ndFlrSF\"]) / X_train_num[\"TotRmsAbvGrd\"]\n",
    "    \n",
    "    # Merging features\n",
    "    X_train_cleaned = pd.concat([X_train_num, X_train_ohe], axis=1)\n",
    "    \n",
    "    # Applying transformations to test if required\n",
    "    if X_test is not None:\n",
    "        X_test_num = X_test.drop(categorical_index, axis=1)\n",
    "        X_test_num = pd.DataFrame(imputer.transform(X_test_num).astype(np.float32), columns=numerical_index)\n",
    "        X_test_cat = X_test.drop(numerical_index, axis=1)\n",
    "        X_test_ohe = ohe.transform(X_test_cat).astype(bool)\n",
    "        X_test_ohe = pd.DataFrame(X_test_ohe, columns=ohe.get_feature_names_out(X_test_cat.columns.tolist()))\n",
    "        X_test_num[\"Avg_RoomSF\"] = (X_test_num[\"1stFlrSF\"] + X_test_num[\"2ndFlrSF\"]) / X_test_num[\"TotRmsAbvGrd\"]\n",
    "        X_test_cleaned = pd.concat([X_test_num, X_test_ohe], axis=1)\n",
    "        return X_train_cleaned, X_test_cleaned\n",
    "        \n",
    "    return X_train_cleaned"
   ]
  },
  {
   "cell_type": "markdown",
   "id": "d528ae8c4d425d5a",
   "metadata": {
    "collapsed": false
   },
   "source": [
    "# Model Selection"
   ]
  },
  {
   "cell_type": "code",
   "execution_count": 10,
   "id": "88481fec62754fd1",
   "metadata": {
    "collapsed": false,
    "ExecuteTime": {
     "end_time": "2024-10-22T10:27:15.908485Z",
     "start_time": "2024-10-22T10:27:14.716841Z"
    }
   },
   "outputs": [],
   "source": [
    "from sklearn import linear_model\n",
    "from sklearn import ensemble\n",
    "from sklearn import svm\n",
    "from sklearn import neighbors\n",
    "from sklearn import tree\n",
    "\n",
    "models = [linear_model.LinearRegression, \n",
    "          linear_model.ElasticNet,\n",
    "          ensemble.RandomForestRegressor, \n",
    "          svm.SVR,\n",
    "          neighbors.KNeighborsRegressor,\n",
    "          tree.DecisionTreeRegressor]\n",
    "\n",
    "models_keys = ['Linear',\n",
    "               'Net',\n",
    "               'Forest',\n",
    "               'SVR',\n",
    "               'Neighbors',\n",
    "               'Tree']\n",
    "\n",
    "X = pd.read_csv('train.csv',\n",
    "                 index_col=0,\n",
    "                 na_values='NA',\n",
    "                 keep_default_na=False)\n",
    "X_train = X.drop([\"SalePrice\"], axis=1)\n",
    "y_train = X[\"SalePrice\"]\n",
    "X_test = pd.read_csv('test.csv',\n",
    "                   index_col=0,\n",
    "                   na_values='NA',\n",
    "                   keep_default_na=False)\n",
    "X_train_cleaned, X_test_cleaned = preprocess(X_train, X_test)"
   ]
  },
  {
   "cell_type": "markdown",
   "id": "dec91ecc9e9931d8",
   "metadata": {
    "collapsed": false
   },
   "source": [
    "## In-sample Performance"
   ]
  },
  {
   "cell_type": "code",
   "execution_count": 65,
   "id": "3cfc81bdda2f9641",
   "metadata": {
    "collapsed": false,
    "ExecuteTime": {
     "end_time": "2024-08-30T08:01:58.411999Z",
     "start_time": "2024-08-30T08:01:54.582507Z"
    }
   },
   "outputs": [
    {
     "data": {
      "text/plain": "Linear       23394.540041\nNet          32579.520722\nForest       11332.306205\nSVR          81394.381766\nNeighbors    36785.995277\nTree             0.000000\nName: In-sample RMSE, dtype: float64"
     },
     "execution_count": 65,
     "metadata": {},
     "output_type": "execute_result"
    }
   ],
   "source": [
    "from sklearn.metrics import mean_squared_error\n",
    "from sklearn.exceptions import ConvergenceWarning\n",
    "warnings.filterwarnings(\"ignore\", category=ConvergenceWarning)\n",
    "\n",
    "rmse = lambda t, p: np.sqrt(mean_squared_error(t, p))\n",
    "\n",
    "in_sample = []\n",
    "for m in models:\n",
    "    model = m()\n",
    "    model.fit(X_train_cleaned, y_train)\n",
    "    in_sample.append(rmse(y_train, model.predict(X_train_cleaned))) \n",
    "pd.Series(dict(zip(models_keys, in_sample)), name=\"In-sample RMSE\")"
   ]
  },
  {
   "cell_type": "markdown",
   "id": "290bfbee1b8dff2b",
   "metadata": {
    "collapsed": false
   },
   "source": [
    "## Out-of-sample Performance"
   ]
  },
  {
   "cell_type": "code",
   "execution_count": 66,
   "id": "5ea188a69830e2f5",
   "metadata": {
    "collapsed": false,
    "ExecuteTime": {
     "end_time": "2024-08-30T08:02:34.656162Z",
     "start_time": "2024-08-30T08:02:06.537213Z"
    }
   },
   "outputs": [
    {
     "data": {
      "text/plain": "Linear       44316.777205\nNet          33265.699034\nForest       29366.940304\nSVR          80882.090654\nNeighbors    45692.117520\nTree         38154.404039\nName: Cross-validation RMSE, dtype: float64"
     },
     "execution_count": 66,
     "metadata": {},
     "output_type": "execute_result"
    }
   ],
   "source": [
    "from sklearn.model_selection import cross_val_score\n",
    "out_sample = []\n",
    "\n",
    "for m in models:\n",
    "    model = m()\n",
    "    score = cross_val_score(model, X_train_cleaned, y_train, scoring=\"neg_mean_squared_error\", cv=10)\n",
    "    rmse_score = np.sqrt(-score)\n",
    "    out_sample.append(rmse_score.mean()) \n",
    "cv_results = pd.Series(dict(zip(models_keys, out_sample)), name=\"Cross-validation RMSE\")\n",
    "cv_results"
   ]
  },
  {
   "cell_type": "code",
   "execution_count": 67,
   "id": "963bd69c4b7b7c9c",
   "metadata": {
    "collapsed": false,
    "ExecuteTime": {
     "end_time": "2024-08-30T08:02:56.052934Z",
     "start_time": "2024-08-30T08:02:55.979779Z"
    }
   },
   "outputs": [
    {
     "name": "stdout",
     "output_type": "stream",
     "text": [
      "When sorted by RMSE, the top three most promising models resulting from cross-validation are:\n",
      "Forest: 29366.94030408405\n",
      "Net: 33265.69903438103\n",
      "Tree: 38154.40403943229\n"
     ]
    }
   ],
   "source": [
    "cv_results = cv_results.sort_values(ascending=True)\n",
    "print(\"When sorted by RMSE, the top three most promising models resulting from cross-validation are:\")\n",
    "for i in range(3):\n",
    "    print(f\"{cv_results.index[i]}: {cv_results.iloc[i]}\")"
   ]
  },
  {
   "cell_type": "markdown",
   "id": "546ff9a4207ad71f",
   "metadata": {
    "collapsed": false
   },
   "source": [
    "The out-of-sample RMSEs are used to rank performance instead of the in-sample RMSEs, as they are a better indicator of how the model will predict on new, unseen data, such as the test set."
   ]
  },
  {
   "cell_type": "markdown",
   "id": "9d5db6ca627736fd",
   "metadata": {
    "collapsed": false
   },
   "source": [
    "# Hyperparameter Optimisation"
   ]
  },
  {
   "cell_type": "markdown",
   "id": "af4624ead444441a",
   "metadata": {
    "collapsed": false
   },
   "source": [
    "## Forest"
   ]
  },
  {
   "cell_type": "code",
   "execution_count": 71,
   "id": "4f832509683d55ad",
   "metadata": {
    "collapsed": false,
    "ExecuteTime": {
     "end_time": "2024-08-30T08:13:12.835353Z",
     "start_time": "2024-08-30T08:11:42.311408Z"
    }
   },
   "outputs": [
    {
     "name": "stdout",
     "output_type": "stream",
     "text": [
      "{'max_features': None, 'n_estimators': 100} -857108871.8308527\n",
      "RMSE = 11545.382891520521\n"
     ]
    }
   ],
   "source": [
    "from sklearn.model_selection import GridSearchCV\n",
    "\n",
    "param_grid = [{\"n_estimators\": [50, 100, 150], \"max_features\": [\"sqrt\", \"log2\", None]}]\n",
    "forest_reg = ensemble.RandomForestRegressor()\n",
    "grid_search = GridSearchCV(forest_reg, param_grid, cv=10, scoring='neg_mean_squared_error')\n",
    "grid_search.fit(X_train_cleaned, y_train)\n",
    "best_forest_reg = grid_search.best_estimator_\n",
    "print(grid_search.best_params_, grid_search.best_score_)\n",
    "print(f\"RMSE = {rmse(y_train, best_forest_reg.predict(X_train_cleaned))}\")"
   ]
  },
  {
   "cell_type": "markdown",
   "id": "cc4095c4bdfd425a",
   "metadata": {
    "collapsed": false
   },
   "source": [
    "## Net"
   ]
  },
  {
   "cell_type": "code",
   "execution_count": 43,
   "id": "253e5dda13379b7c",
   "metadata": {
    "ExecuteTime": {
     "end_time": "2024-08-28T22:07:49.000913Z",
     "start_time": "2024-08-28T22:06:45.539362Z"
    },
    "collapsed": false
   },
   "outputs": [
    {
     "name": "stdout",
     "output_type": "stream",
     "text": [
      "{'alpha': 100.0, 'l1_ratio': 1.0} -1021501524.2430137\n",
      "RMSE = 22958.412779991715\n"
     ]
    }
   ],
   "source": [
    "param_grid = [{\"alpha\": np.logspace(-3, 3, 7), \"l1_ratio\": np.linspace(0, 1, 5)}]\n",
    "net_reg = linear_model.ElasticNet()\n",
    "grid_search = GridSearchCV(net_reg, param_grid, cv=10, scoring='neg_mean_squared_error')\n",
    "grid_search.fit(X_train_cleaned, y_train)\n",
    "best_net_reg = grid_search.best_estimator_\n",
    "print(grid_search.best_params_, grid_search.best_score_)\n",
    "print(f\"RMSE = {rmse(y_train, best_net_reg.predict(X_train_cleaned))}\")"
   ]
  },
  {
   "cell_type": "markdown",
   "id": "fd36a1545e0f78a8",
   "metadata": {
    "collapsed": false
   },
   "source": [
    "## Tree"
   ]
  },
  {
   "cell_type": "code",
   "execution_count": 64,
   "id": "34ae324b17c4ab5",
   "metadata": {
    "ExecuteTime": {
     "end_time": "2024-08-28T22:40:08.682496Z",
     "start_time": "2024-08-28T22:40:05.843917Z"
    },
    "collapsed": false
   },
   "outputs": [
    {
     "name": "stdout",
     "output_type": "stream",
     "text": [
      "{'max_features': None, 'splitter': 'best'} -1783720429.5301368\n",
      "RMSE = 0.0\n"
     ]
    }
   ],
   "source": [
    "param_grid = [{\"splitter\": [\"best\", \"random\"], \"max_features\": [\"sqrt\", \"log2\", None]}]\n",
    "tree_reg = tree.DecisionTreeRegressor()\n",
    "grid_search = GridSearchCV(tree_reg, param_grid, cv=10, scoring='neg_mean_squared_error')\n",
    "grid_search.fit(X_train_cleaned, y_train)\n",
    "best_tree_reg = grid_search.best_estimator_\n",
    "print(grid_search.best_params_, grid_search.best_score_)\n",
    "print(f\"RMSE = {rmse(y_train, best_tree_reg.predict(X_train_cleaned))}\")"
   ]
  },
  {
   "cell_type": "markdown",
   "id": "ddef454cefafd200",
   "metadata": {
    "collapsed": false
   },
   "source": [
    "Through optimising model hyperparameters, DecisionTreeRegressor has an RMSE of 0, which is a clear indicator of overfitting.\n",
    "Therefore, the next-best model, RandomForestRegressor, was chosen as the best performing learning algorithm with the following hyperparameters:"
   ]
  },
  {
   "cell_type": "markdown",
   "id": "6c20b8147f3178cd",
   "metadata": {
    "collapsed": false
   },
   "source": [
    "n_estimators = 100, max_features = None"
   ]
  },
  {
   "cell_type": "code",
   "execution_count": 74,
   "id": "e87cef7b5f676d4e",
   "metadata": {
    "collapsed": false,
    "ExecuteTime": {
     "end_time": "2024-08-30T08:14:06.111011Z",
     "start_time": "2024-08-30T08:14:02.817754Z"
    }
   },
   "outputs": [],
   "source": [
    "prediction = ensemble.RandomForestRegressor(n_estimators=100, max_features=None)\n",
    "prediction.fit(X_train_cleaned, y_train)\n",
    "y_pred = pd.Series(prediction.predict(X_test_cleaned), name=\"SalePrice\", index=X_test.index)\n",
    "y_pred.to_csv(\"prediction.csv\", header=True)"
   ]
  }
 ],
 "metadata": {
  "kernelspec": {
   "display_name": "Python 3 (ipykernel)",
   "language": "python",
   "name": "python3"
  },
  "language_info": {
   "codemirror_mode": {
    "name": "ipython",
    "version": 3
   },
   "file_extension": ".py",
   "mimetype": "text/x-python",
   "name": "python",
   "nbconvert_exporter": "python",
   "pygments_lexer": "ipython3",
   "version": "3.12.0"
  }
 },
 "nbformat": 4,
 "nbformat_minor": 5
}
